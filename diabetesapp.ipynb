{
 "cells": [
  {
   "cell_type": "code",
   "execution_count": 2,
   "metadata": {},
   "outputs": [],
   "source": [
    "import numpy as np\n",
    "import pickle\n",
    "import streamlit as st"
   ]
  },
  {
   "cell_type": "code",
   "execution_count": 3,
   "metadata": {},
   "outputs": [],
   "source": [
    "lrmodel = open('lrdiabetes.pkl','rb')\n",
    "classifier = pickle.load(lrmodel)"
   ]
  },
  {
   "cell_type": "code",
   "execution_count": 4,
   "metadata": {},
   "outputs": [],
   "source": [
    "def diabetes(Pregnancies,Glucose,BP,SkinThickness,Insulin,BMI,DiabetesPedigreeFunction,Age):\n",
    "    values = np.array([[Pregnancies,Glucose,BP,SkinThickness,Insulin,BMI,DiabetesPedigreeFunction,Age]]).astype(np.float64)\n",
    "    prediction = classifier.predict(values)\n",
    "    return prediction"
   ]
  },
  {
   "cell_type": "code",
   "execution_count": 5,
   "metadata": {},
   "outputs": [],
   "source": [
    "def main():\n",
    "    st.title(\"Diabetics Prediction\")\n",
    "    \n",
    "    Pregnancies = st.text_input('Pregnancies','')\n",
    "    Glucose = st.text_input('Glucose','')\n",
    "    BP = st.text_input('BP','')\n",
    "    SkinThickness = st.text_input('SkinThickness','')\n",
    "    Insulin = st.text_input('Insulin','')\n",
    "    BMI = st.text_input('BMI','')\n",
    "    DiabetesPedigreeFunction = st.text_input('DiabetesPedigreeFunction','')\n",
    "    Age = st.text_input('Age','')\n",
    "    \n",
    "    result =''\n",
    "    \n",
    "    if st.button(\"Predict\"):\n",
    "        result = diabetes(Pregnancies,Glucose,BP,SkinThickness,Insulin,BMI,DiabetesPedigreeFunction,Age)\n",
    "    st.success(result)\n",
    "    \n",
    "    \n",
    "if __name__ == '__main__':\n",
    "    main()"
   ]
  },
  {
   "cell_type": "code",
   "execution_count": null,
   "metadata": {},
   "outputs": [],
   "source": []
  }
 ],
 "metadata": {
  "kernelspec": {
   "display_name": "Python 3",
   "language": "python",
   "name": "python3"
  },
  "language_info": {
   "codemirror_mode": {
    "name": "ipython",
    "version": 3
   },
   "file_extension": ".py",
   "mimetype": "text/x-python",
   "name": "python",
   "nbconvert_exporter": "python",
   "pygments_lexer": "ipython3",
   "version": "3.8.3"
  }
 },
 "nbformat": 4,
 "nbformat_minor": 4
}
